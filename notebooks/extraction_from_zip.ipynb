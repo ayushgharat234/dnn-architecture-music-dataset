{
 "cells": [
  {
   "cell_type": "code",
   "execution_count": 1,
   "id": "f822891b-9bc7-49a9-827a-4f7fdea5b43c",
   "metadata": {
    "tags": []
   },
   "outputs": [
    {
     "name": "stdout",
     "output_type": "stream",
     "text": [
      "✅ Dataset extracted to: C:\\Users\\Gharat\\Downloads\\ML-Assignment-3\\data\\raw\n",
      "📂 Project root: C:\\Users\\Gharat\\Downloads\\ML-Assignment-3\n"
     ]
    }
   ],
   "source": [
    "import zipfile\n",
    "import os\n",
    "from pathlib import Path\n",
    "import shutil\n",
    "\n",
    "# Get project root (assuming this notebook is inside 'notebooks/')\n",
    "project_root = Path(os.getcwd()).parent\n",
    "\n",
    "# Build full path to the zip file in the root\n",
    "zip_path = project_root / \"yearpredictionmsd-data-set.zip\"\n",
    "\n",
    "# Create data/raw directory in the project root\n",
    "output_dir = project_root / \"data\" / \"raw\"\n",
    "output_dir.mkdir(parents=True, exist_ok=True)\n",
    "\n",
    "# Extract the zip file to a temporary folder\n",
    "with zipfile.ZipFile(zip_path, 'r') as zip_ref:\n",
    "    zip_ref.extractall(\"temp_extracted\")\n",
    "\n",
    "# Move the .txt file to data/raw\n",
    "for file in os.listdir(\"temp_extracted\"):\n",
    "    if file.endswith(\".txt\"):\n",
    "        shutil.move(f\"temp_extracted/{file}\", output_dir / file)\n",
    "\n",
    "# Clean up temp folder\n",
    "shutil.rmtree(\"temp_extracted\")\n",
    "\n",
    "print(\"✅ Dataset extracted to:\", output_dir)\n",
    "print(\"📂 Project root:\", project_root)"
   ]
  },
  {
   "cell_type": "code",
   "execution_count": null,
   "id": "b97c173d-b050-4f32-9e67-6ee3de5f4398",
   "metadata": {},
   "outputs": [],
   "source": []
  }
 ],
 "metadata": {
  "kernelspec": {
   "display_name": "Python 3 (ipykernel)",
   "language": "python",
   "name": "python3"
  },
  "language_info": {
   "codemirror_mode": {
    "name": "ipython",
    "version": 3
   },
   "file_extension": ".py",
   "mimetype": "text/x-python",
   "name": "python",
   "nbconvert_exporter": "python",
   "pygments_lexer": "ipython3",
   "version": "3.11.7"
  }
 },
 "nbformat": 4,
 "nbformat_minor": 5
}
